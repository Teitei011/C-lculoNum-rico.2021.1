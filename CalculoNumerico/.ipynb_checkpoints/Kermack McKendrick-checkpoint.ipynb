{
 "cells": [
  {
   "cell_type": "code",
   "execution_count": 4,
   "id": "9e41c436",
   "metadata": {},
   "outputs": [
    {
     "ename": "SyntaxError",
     "evalue": "invalid syntax (<ipython-input-4-8c37bdbce641>, line 3)",
     "output_type": "error",
     "traceback": [
      "\u001b[0;36m  File \u001b[0;32m\"<ipython-input-4-8c37bdbce641>\"\u001b[0;36m, line \u001b[0;32m3\u001b[0m\n\u001b[0;31m    $ \\begin{bmatrix}\u001b[0m\n\u001b[0m    ^\u001b[0m\n\u001b[0;31mSyntaxError\u001b[0m\u001b[0;31m:\u001b[0m invalid syntax\n"
     ]
    }
   ],
   "source": [
    "# Kermack-McKendrick \n",
    "\n",
    "$ \\begin{bmatrix}\n",
    " y^{\\acute{}}_{1}\\\\\n",
    "  y^{\\acute{}}_{2}\\\\\n",
    " y^{\\acute{}}_{3}\\\\\n",
    "\\end{bmatrix} = \\begin{bmatrix}\n",
    " -c y_{1} y_{2} \\\\\n",
    "  cy_1 y_2 - d y_2\\\\\n",
    " dy_2\\\\\n",
    "\\end{bmatrix}$ \n",
    "\n",
    "$y_1$ Indivíduos suscetíveis \n",
    "$y_2$ Indivíduos infectados\n",
    " $y_3$ Indivíduos removidos (isolamente, recuperação, morte ou imunidade)\n",
    "    \n",
    "$c = 1$\n",
    "$d = 5$\n",
    "$y_1(0) = 0.95$\n",
    "$y_2(0) = 0.05$\n",
    "$y_3(0) = 0$\n",
    "\n",
    "t = 0\n",
    "t_f = 1"
   ]
  },
  {
   "cell_type": "code",
   "execution_count": null,
   "id": "fe54eedc",
   "metadata": {},
   "outputs": [],
   "source": []
  },
  {
   "cell_type": "code",
   "execution_count": null,
   "id": "0fce273d",
   "metadata": {},
   "outputs": [],
   "source": []
  }
 ],
 "metadata": {
  "kernelspec": {
   "display_name": "Python 3",
   "language": "python",
   "name": "python3"
  },
  "language_info": {
   "codemirror_mode": {
    "name": "ipython",
    "version": 3
   },
   "file_extension": ".py",
   "mimetype": "text/x-python",
   "name": "python",
   "nbconvert_exporter": "python",
   "pygments_lexer": "ipython3",
   "version": "3.9.6"
  }
 },
 "nbformat": 4,
 "nbformat_minor": 5
}
