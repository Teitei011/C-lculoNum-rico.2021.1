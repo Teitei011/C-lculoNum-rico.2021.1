{
 "cells": [
  {
   "cell_type": "markdown",
   "id": "de249617",
   "metadata": {},
   "source": [
    "# Kermack-McKendrick \n",
    "\n",
    "\n",
    "Simulação de epidemia \n",
    "\n",
    "\n",
    "$$ \\begin{bmatrix}\n",
    " y^{\\acute{}}_{1}\\\\\n",
    "  y^{\\acute{}}_{2}\\\\\n",
    " y^{\\acute{}}_{3}\\\\\n",
    "\\end{bmatrix} = \\begin{bmatrix}\n",
    " -c y_{1} y_{2} \\\\\n",
    "  cy_1 y_2 - d y_2\\\\\n",
    " dy_2\\\\\n",
    "\\end{bmatrix}$$ \n",
    "\n",
    "$y_1 \\rightarrow$ Indivíduos suscetíveis \n",
    "\n",
    "$y_2\\rightarrow$ Indivíduos infectados\n",
    "\n",
    "$y_3\\rightarrow$ Indivíduos removidos (isolamente, recuperação, morte ou imunidade)\n",
    "    \n",
    "    \n",
    "## Variáveis de Teste\n",
    "\n",
    "$c = 1$\n",
    "\n",
    "$d = 5$\n",
    "\n",
    "$y_1(0) = 95$\n",
    "\n",
    "$y_2(0) = 5$\n",
    "\n",
    "$y_3(0) = 0$\n",
    "\n",
    "$t = 0$\n",
    "\n",
    "$t_f = 1$"
   ]
  },
  {
   "cell_type": "code",
   "execution_count": 12,
   "id": "fe54eedc",
   "metadata": {},
   "outputs": [],
   "source": [
    "import numpy as np\n",
    "import matplotlib.pyplot as plt"
   ]
  },
  {
   "cell_type": "code",
   "execution_count": 28,
   "id": "0fce273d",
   "metadata": {},
   "outputs": [],
   "source": [
    "\n",
    "def runge_kutta(f, x_0, y_0, h):\n",
    "    \"\"\"Four step Runge-Kutta method (RK4)\n",
    "    Solves first order ODEs\n",
    "    \"\"\"\n",
    "    k_0 = f(x_0, y_0)\n",
    "    k_1 = f(x_0 + h/2, y_0 + h/2 * k_0)\n",
    "    k_2 = f(x_0 + h/2, y_0 + h/2 * k_1)\n",
    "    k_3 = f(x_0 + h, y_0 + h * k_2)\n",
    "\n",
    "    k = 1/6 * (k_0 + 2.0*k_1 + 2.0*k_2 + k_3)\n",
    "\n",
    "    x_1 = x_0 + h\n",
    "    y_1 = y_0 + h * k\n",
    "\n",
    "    return x_1, y_1\n",
    "\n",
    "\n"
   ]
  },
  {
   "cell_type": "code",
   "execution_count": 32,
   "id": "47eb394d",
   "metadata": {},
   "outputs": [],
   "source": [
    "\n",
    "# Funções\n",
    "\n",
    "def f1(x, y):\n",
    "    return -c * y1 * y2\n",
    "\n",
    "def f2(x, y):\n",
    "    return c * y1 * y2 - d * y2\n",
    "\n",
    "def f3(x, y):\n",
    "    return d * y2\n",
    "\n"
   ]
  },
  {
   "cell_type": "code",
   "execution_count": 54,
   "id": "368090ec",
   "metadata": {},
   "outputs": [
    {
     "name": "stdout",
     "output_type": "stream",
     "text": [
      "0.951 0.499525\n",
      "0.500525 0.4975011240498872\n",
      "0.4985011240498872 0.49526212864609787\n",
      "0.49626212864609787 0.4930322070227731\n",
      "0.4940322070227731 0.49081122175525277\n",
      "0.49181122175525277 0.4885991470062605\n",
      "0.4895991470062605 0.486395956867861\n",
      "0.487395956867861 0.48420162541775924\n",
      "0.48520162541775924 0.48201612672026367\n",
      "0.48301612672026367 0.47983943482726904\n"
     ]
    },
    {
     "data": {
      "image/png": "[encoded data removed]",
      "text/plain": [
       "<Figure size 432x288 with 1 Axes>"
      ]
     },
     "metadata": {
      "needs_background": "light"
     },
     "output_type": "display_data"
    }
   ],
   "source": [
    "# Initial values\n",
    "x_0 = 0.0\n",
    "y_0 = 1.0\n",
    "y1 = .95\n",
    "y2 = .5\n",
    "y3 = 0\n",
    "c = 1 \n",
    "d = 5 \n",
    "# Step length \n",
    "h = 0.001\n",
    "    \n",
    "\n",
    "x1_values = [0]\n",
    "y1_values = [y1]\n",
    "y2_values = [y2]\n",
    "y3_values = [y3]\n",
    "\n",
    "# Calculate solution\n",
    "x = x_0\n",
    "y = y_0\n",
    "for _ in range(10):\n",
    "    x1, y1 = runge_kutta(f1, y1, y2, h)\n",
    "    x2, y2 = runge_kutta(f2, y1, y2, h)\n",
    "    x3, y3 = runge_kutta(f3, y1, y2, h)\n",
    "\n",
    "    y1_values.append(y1)\n",
    "    y2_values.append(y2)\n",
    "    y3_values.append(y3)\n",
    "    print(x1, y1)\n",
    "\n",
    "# Plot solution\n",
    "plt.grid()\n",
    "plt.plot(y3_values)\n",
    "plt.show()"
   ]
  },
  {
   "cell_type": "code",
   "execution_count": null,
   "id": "de3c156a",
   "metadata": {},
   "outputs": [],
   "source": []
  },
  {
   "cell_type": "code",
   "execution_count": null,
   "id": "a2fb5f1c",
   "metadata": {},
   "outputs": [],
   "source": []
  }
 ],
 "metadata": {
  "kernelspec": {
   "display_name": "Python 3",
   "language": "python",
   "name": "python3"
  },
  "language_info": {
   "codemirror_mode": {
    "name": "ipython",
    "version": 3
   },
   "file_extension": ".py",
   "mimetype": "text/x-python",
   "name": "python",
   "nbconvert_exporter": "python",
   "pygments_lexer": "ipython3",
   "version": "3.9.6"
  }
 },
 "nbformat": 4,
 "nbformat_minor": 5
}
